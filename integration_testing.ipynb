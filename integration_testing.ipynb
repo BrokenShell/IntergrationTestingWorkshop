{
 "cells": [
  {
   "cell_type": "markdown",
   "source": [
    "# Integration Tests"
   ],
   "metadata": {
    "collapsed": false,
    "pycharm": {
     "name": "#%% md\n"
    }
   }
  },
  {
   "cell_type": "code",
   "execution_count": 3,
   "outputs": [],
   "source": [
    "import requests\n",
    "from pandas import DataFrame"
   ],
   "metadata": {
    "collapsed": false,
    "pycharm": {
     "name": "#%%\n"
    }
   }
  },
  {
   "cell_type": "code",
   "execution_count": 5,
   "outputs": [],
   "source": [
    "url = \"http://127.0.0.1:8000/monsters\""
   ],
   "metadata": {
    "collapsed": false,
    "pycharm": {
     "name": "#%%\n"
    }
   }
  },
  {
   "cell_type": "markdown",
   "source": [
    "## Read All Monsters"
   ],
   "metadata": {
    "collapsed": false,
    "pycharm": {
     "name": "#%% md\n"
    }
   }
  },
  {
   "cell_type": "code",
   "execution_count": 18,
   "outputs": [
    {
     "data": {
      "text/plain": "                  name       type  level  health\n0          Orc Captain      Giant     33     170\n1                Mummy     Undead     38     209\n2          Fire Mephit  Elemental     33     169\n3           Cave Troll      Giant     40     191\n4         Black Dragon     Dragon     75     436\n..                 ...        ...    ...     ...\n995       Earth Mephit  Elemental     32     179\n996              Troll      Giant     39     206\n997              Ghost     Undead     54     311\n998  Black Dragon Welp     Dragon     44     235\n999       Earth Mephit  Elemental     32     211\n\n[1000 rows x 4 columns]",
      "text/html": "<div>\n<style scoped>\n    .dataframe tbody tr th:only-of-type {\n        vertical-align: middle;\n    }\n\n    .dataframe tbody tr th {\n        vertical-align: top;\n    }\n\n    .dataframe thead th {\n        text-align: right;\n    }\n</style>\n<table border=\"1\" class=\"dataframe\">\n  <thead>\n    <tr style=\"text-align: right;\">\n      <th></th>\n      <th>name</th>\n      <th>type</th>\n      <th>level</th>\n      <th>health</th>\n    </tr>\n  </thead>\n  <tbody>\n    <tr>\n      <th>0</th>\n      <td>Orc Captain</td>\n      <td>Giant</td>\n      <td>33</td>\n      <td>170</td>\n    </tr>\n    <tr>\n      <th>1</th>\n      <td>Mummy</td>\n      <td>Undead</td>\n      <td>38</td>\n      <td>209</td>\n    </tr>\n    <tr>\n      <th>2</th>\n      <td>Fire Mephit</td>\n      <td>Elemental</td>\n      <td>33</td>\n      <td>169</td>\n    </tr>\n    <tr>\n      <th>3</th>\n      <td>Cave Troll</td>\n      <td>Giant</td>\n      <td>40</td>\n      <td>191</td>\n    </tr>\n    <tr>\n      <th>4</th>\n      <td>Black Dragon</td>\n      <td>Dragon</td>\n      <td>75</td>\n      <td>436</td>\n    </tr>\n    <tr>\n      <th>...</th>\n      <td>...</td>\n      <td>...</td>\n      <td>...</td>\n      <td>...</td>\n    </tr>\n    <tr>\n      <th>995</th>\n      <td>Earth Mephit</td>\n      <td>Elemental</td>\n      <td>32</td>\n      <td>179</td>\n    </tr>\n    <tr>\n      <th>996</th>\n      <td>Troll</td>\n      <td>Giant</td>\n      <td>39</td>\n      <td>206</td>\n    </tr>\n    <tr>\n      <th>997</th>\n      <td>Ghost</td>\n      <td>Undead</td>\n      <td>54</td>\n      <td>311</td>\n    </tr>\n    <tr>\n      <th>998</th>\n      <td>Black Dragon Welp</td>\n      <td>Dragon</td>\n      <td>44</td>\n      <td>235</td>\n    </tr>\n    <tr>\n      <th>999</th>\n      <td>Earth Mephit</td>\n      <td>Elemental</td>\n      <td>32</td>\n      <td>211</td>\n    </tr>\n  </tbody>\n</table>\n<p>1000 rows × 4 columns</p>\n</div>"
     },
     "execution_count": 18,
     "metadata": {},
     "output_type": "execute_result"
    }
   ],
   "source": [
    "df = DataFrame(requests.get(url).json())\n",
    "original_shape = df.shape\n",
    "df"
   ],
   "metadata": {
    "collapsed": false,
    "pycharm": {
     "name": "#%%\n"
    }
   }
  },
  {
   "cell_type": "markdown",
   "source": [
    "### Create Monster"
   ],
   "metadata": {
    "collapsed": false,
    "pycharm": {
     "name": "#%% md\n"
    }
   }
  },
  {
   "cell_type": "code",
   "execution_count": 8,
   "outputs": [
    {
     "data": {
      "text/plain": "True"
     },
     "execution_count": 8,
     "metadata": {},
     "output_type": "execute_result"
    }
   ],
   "source": [
    "requests.post(url, json=[\n",
    "    {\n",
    "        \"name\": \"test monster 1\",\n",
    "        \"type\": \"test\",\n",
    "        \"level\": 0,\n",
    "        \"health\": 0,\n",
    "    },\n",
    "    {\n",
    "        \"name\": \"test monster 2\",\n",
    "        \"type\": \"test\",\n",
    "        \"level\": 0,\n",
    "        \"health\": 0,\n",
    "    },\n",
    "    {\n",
    "        \"name\": \"test monster 3\",\n",
    "        \"type\": \"test\",\n",
    "        \"level\": 0,\n",
    "        \"health\": 0,\n",
    "    },\n",
    "]).json()"
   ],
   "metadata": {
    "collapsed": false,
    "pycharm": {
     "name": "#%%\n"
    }
   }
  },
  {
   "cell_type": "markdown",
   "source": [
    "## Find Monsters"
   ],
   "metadata": {
    "collapsed": false,
    "pycharm": {
     "name": "#%% md\n"
    }
   }
  },
  {
   "cell_type": "code",
   "execution_count": 10,
   "outputs": [
    {
     "data": {
      "text/plain": "[{'name': 'test monster 1'},\n {'name': 'test monster 2'},\n {'name': 'test monster 3'},\n {'name': 'test monster 1'},\n {'name': 'test monster 2'},\n {'name': 'test monster 3'},\n {'name': 'test monster 1'},\n {'name': 'test monster 2'},\n {'name': 'test monster 3'},\n {'name': 'test monster 1'},\n {'name': 'test monster 2'},\n {'name': 'test monster 3'}]"
     },
     "execution_count": 10,
     "metadata": {},
     "output_type": "execute_result"
    }
   ],
   "source": [
    "requests.put(url, json={\n",
    "    \"query\": {\"type\": \"test\"},\n",
    "    \"projection\": {\"name\": True},\n",
    "}).json()"
   ],
   "metadata": {
    "collapsed": false,
    "pycharm": {
     "name": "#%%\n"
    }
   }
  },
  {
   "cell_type": "markdown",
   "source": [
    "### Fail Case 1: This should be rejected by the API - field required 'health'"
   ],
   "metadata": {
    "collapsed": false,
    "pycharm": {
     "name": "#%% md\n"
    }
   }
  },
  {
   "cell_type": "code",
   "execution_count": 11,
   "outputs": [
    {
     "data": {
      "text/plain": "{'detail': [{'loc': ['body', 0, 'health'],\n   'msg': 'field required',\n   'type': 'value_error.missing'}]}"
     },
     "execution_count": 11,
     "metadata": {},
     "output_type": "execute_result"
    }
   ],
   "source": [
    "requests.post(url, json=[{\n",
    "    \"name\": \"test 002\",\n",
    "    \"type\": \"test\",\n",
    "    \"level\": 0,\n",
    "}]).json()"
   ],
   "metadata": {
    "collapsed": false,
    "pycharm": {
     "name": "#%%\n"
    }
   }
  },
  {
   "cell_type": "markdown",
   "source": [
    "### Fail Case 2: This should be rejected by the API - extra fields not permitted"
   ],
   "metadata": {
    "collapsed": false,
    "pycharm": {
     "name": "#%% md\n"
    }
   }
  },
  {
   "cell_type": "code",
   "execution_count": 12,
   "outputs": [
    {
     "data": {
      "text/plain": "{'detail': [{'loc': ['body', 0, 'foreign'],\n   'msg': 'extra fields not permitted',\n   'type': 'value_error.extra'}]}"
     },
     "execution_count": 12,
     "metadata": {},
     "output_type": "execute_result"
    }
   ],
   "source": [
    "requests.post(url, json=[{\n",
    "    \"name\": \"test 003\",\n",
    "    \"type\": \"test\",\n",
    "    \"level\": 0,\n",
    "    \"health\": 0,\n",
    "    \"foreign\": \"field\",\n",
    "}]).json()"
   ],
   "metadata": {
    "collapsed": false,
    "pycharm": {
     "name": "#%%\n"
    }
   }
  },
  {
   "cell_type": "markdown",
   "source": [
    "### Check How Many 'test' monsters exist"
   ],
   "metadata": {
    "collapsed": false,
    "pycharm": {
     "name": "#%% md\n"
    }
   }
  },
  {
   "cell_type": "code",
   "execution_count": 13,
   "outputs": [
    {
     "data": {
      "text/plain": "[{'name': 'test monster 1', 'type': 'test', 'level': 0, 'health': 0},\n {'name': 'test monster 2', 'type': 'test', 'level': 0, 'health': 0},\n {'name': 'test monster 3', 'type': 'test', 'level': 0, 'health': 0},\n {'name': 'test monster 1', 'type': 'test', 'level': 0, 'health': 0},\n {'name': 'test monster 2', 'type': 'test', 'level': 0, 'health': 0},\n {'name': 'test monster 3', 'type': 'test', 'level': 0, 'health': 0},\n {'name': 'test monster 1', 'type': 'test', 'level': 0, 'health': 0},\n {'name': 'test monster 2', 'type': 'test', 'level': 0, 'health': 0},\n {'name': 'test monster 3', 'type': 'test', 'level': 0, 'health': 0},\n {'name': 'test monster 1', 'type': 'test', 'level': 0, 'health': 0},\n {'name': 'test monster 2', 'type': 'test', 'level': 0, 'health': 0},\n {'name': 'test monster 3', 'type': 'test', 'level': 0, 'health': 0}]"
     },
     "execution_count": 13,
     "metadata": {},
     "output_type": "execute_result"
    }
   ],
   "source": [
    "requests.put(url, json={\n",
    "    \"query\": {\"type\": \"test\"},\n",
    "    \"projection\": {},\n",
    "}).json()"
   ],
   "metadata": {
    "collapsed": false,
    "pycharm": {
     "name": "#%%\n"
    }
   }
  },
  {
   "cell_type": "markdown",
   "source": [
    "### Update Many"
   ],
   "metadata": {
    "collapsed": false,
    "pycharm": {
     "name": "#%% md\n"
    }
   }
  },
  {
   "cell_type": "code",
   "execution_count": 14,
   "outputs": [
    {
     "data": {
      "text/plain": "True"
     },
     "execution_count": 14,
     "metadata": {},
     "output_type": "execute_result"
    }
   ],
   "source": [
    "requests.patch(url, json={\n",
    "    \"query\": {\"type\": \"test\"},\n",
    "    \"update\": {\"level\": 10},\n",
    "}).json()"
   ],
   "metadata": {
    "collapsed": false,
    "pycharm": {
     "name": "#%%\n"
    }
   }
  },
  {
   "cell_type": "code",
   "execution_count": 15,
   "outputs": [
    {
     "data": {
      "text/plain": "[{'name': 'test monster 1', 'level': 10},\n {'name': 'test monster 2', 'level': 10},\n {'name': 'test monster 3', 'level': 10},\n {'name': 'test monster 1', 'level': 10},\n {'name': 'test monster 2', 'level': 10},\n {'name': 'test monster 3', 'level': 10},\n {'name': 'test monster 1', 'level': 10},\n {'name': 'test monster 2', 'level': 10},\n {'name': 'test monster 3', 'level': 10},\n {'name': 'test monster 1', 'level': 10},\n {'name': 'test monster 2', 'level': 10},\n {'name': 'test monster 3', 'level': 10}]"
     },
     "execution_count": 15,
     "metadata": {},
     "output_type": "execute_result"
    }
   ],
   "source": [
    "requests.put(url, json={\n",
    "    \"query\": {\"type\": \"test\"},\n",
    "    \"projection\": {\"health\": False, \"type\": False},\n",
    "}).json()"
   ],
   "metadata": {
    "collapsed": false,
    "pycharm": {
     "name": "#%%\n"
    }
   }
  },
  {
   "cell_type": "markdown",
   "source": [
    "### Delete Many"
   ],
   "metadata": {
    "collapsed": false,
    "pycharm": {
     "name": "#%% md\n"
    }
   }
  },
  {
   "cell_type": "code",
   "execution_count": 16,
   "outputs": [
    {
     "data": {
      "text/plain": "True"
     },
     "execution_count": 16,
     "metadata": {},
     "output_type": "execute_result"
    }
   ],
   "source": [
    "requests.delete(url, json={\n",
    "    \"type\": \"test\",\n",
    "}).json()"
   ],
   "metadata": {
    "collapsed": false,
    "pycharm": {
     "name": "#%%\n"
    }
   }
  },
  {
   "cell_type": "markdown",
   "source": [
    "Should be empty list"
   ],
   "metadata": {
    "collapsed": false,
    "pycharm": {
     "name": "#%% md\n"
    }
   }
  },
  {
   "cell_type": "code",
   "execution_count": 17,
   "outputs": [
    {
     "data": {
      "text/plain": "[]"
     },
     "execution_count": 17,
     "metadata": {},
     "output_type": "execute_result"
    }
   ],
   "source": [
    "requests.put(url, json={\n",
    "    \"query\": {\"type\": \"test\"},\n",
    "    \"projection\": {\"health\": False, \"type\": False},\n",
    "}).json()"
   ],
   "metadata": {
    "collapsed": false,
    "pycharm": {
     "name": "#%%\n"
    }
   }
  },
  {
   "cell_type": "markdown",
   "source": [
    "### Checksum"
   ],
   "metadata": {
    "collapsed": false,
    "pycharm": {
     "name": "#%% md\n"
    }
   }
  },
  {
   "cell_type": "code",
   "execution_count": 19,
   "outputs": [],
   "source": [
    "current_shape = DataFrame(requests.get(url).json()).shape\n",
    "assert original_shape == current_shape"
   ],
   "metadata": {
    "collapsed": false,
    "pycharm": {
     "name": "#%%\n"
    }
   }
  },
  {
   "cell_type": "markdown",
   "source": [
    "### Now For Something Sinister!"
   ],
   "metadata": {
    "collapsed": false,
    "pycharm": {
     "name": "#%% md\n"
    }
   }
  },
  {
   "cell_type": "code",
   "execution_count": 20,
   "outputs": [
    {
     "data": {
      "text/plain": "True"
     },
     "execution_count": 20,
     "metadata": {},
     "output_type": "execute_result"
    }
   ],
   "source": [
    "requests.patch(url, json={\n",
    "    \"query\": {},\n",
    "    \"update\": {\"type\": \"Mushroom\"},\n",
    "}).json()"
   ],
   "metadata": {
    "collapsed": false,
    "pycharm": {
     "name": "#%%\n"
    }
   }
  },
  {
   "cell_type": "code",
   "execution_count": 21,
   "outputs": [
    {
     "data": {
      "text/plain": "                  name      type  level  health\n0          Orc Captain  Mushroom     33     170\n1                Mummy  Mushroom     38     209\n2          Fire Mephit  Mushroom     33     169\n3           Cave Troll  Mushroom     40     191\n4         Black Dragon  Mushroom     75     436\n..                 ...       ...    ...     ...\n995       Earth Mephit  Mushroom     32     179\n996              Troll  Mushroom     39     206\n997              Ghost  Mushroom     54     311\n998  Black Dragon Welp  Mushroom     44     235\n999       Earth Mephit  Mushroom     32     211\n\n[1000 rows x 4 columns]",
      "text/html": "<div>\n<style scoped>\n    .dataframe tbody tr th:only-of-type {\n        vertical-align: middle;\n    }\n\n    .dataframe tbody tr th {\n        vertical-align: top;\n    }\n\n    .dataframe thead th {\n        text-align: right;\n    }\n</style>\n<table border=\"1\" class=\"dataframe\">\n  <thead>\n    <tr style=\"text-align: right;\">\n      <th></th>\n      <th>name</th>\n      <th>type</th>\n      <th>level</th>\n      <th>health</th>\n    </tr>\n  </thead>\n  <tbody>\n    <tr>\n      <th>0</th>\n      <td>Orc Captain</td>\n      <td>Mushroom</td>\n      <td>33</td>\n      <td>170</td>\n    </tr>\n    <tr>\n      <th>1</th>\n      <td>Mummy</td>\n      <td>Mushroom</td>\n      <td>38</td>\n      <td>209</td>\n    </tr>\n    <tr>\n      <th>2</th>\n      <td>Fire Mephit</td>\n      <td>Mushroom</td>\n      <td>33</td>\n      <td>169</td>\n    </tr>\n    <tr>\n      <th>3</th>\n      <td>Cave Troll</td>\n      <td>Mushroom</td>\n      <td>40</td>\n      <td>191</td>\n    </tr>\n    <tr>\n      <th>4</th>\n      <td>Black Dragon</td>\n      <td>Mushroom</td>\n      <td>75</td>\n      <td>436</td>\n    </tr>\n    <tr>\n      <th>...</th>\n      <td>...</td>\n      <td>...</td>\n      <td>...</td>\n      <td>...</td>\n    </tr>\n    <tr>\n      <th>995</th>\n      <td>Earth Mephit</td>\n      <td>Mushroom</td>\n      <td>32</td>\n      <td>179</td>\n    </tr>\n    <tr>\n      <th>996</th>\n      <td>Troll</td>\n      <td>Mushroom</td>\n      <td>39</td>\n      <td>206</td>\n    </tr>\n    <tr>\n      <th>997</th>\n      <td>Ghost</td>\n      <td>Mushroom</td>\n      <td>54</td>\n      <td>311</td>\n    </tr>\n    <tr>\n      <th>998</th>\n      <td>Black Dragon Welp</td>\n      <td>Mushroom</td>\n      <td>44</td>\n      <td>235</td>\n    </tr>\n    <tr>\n      <th>999</th>\n      <td>Earth Mephit</td>\n      <td>Mushroom</td>\n      <td>32</td>\n      <td>211</td>\n    </tr>\n  </tbody>\n</table>\n<p>1000 rows × 4 columns</p>\n</div>"
     },
     "execution_count": 21,
     "metadata": {},
     "output_type": "execute_result"
    }
   ],
   "source": [
    "DataFrame(requests.get(url).json())"
   ],
   "metadata": {
    "collapsed": false,
    "pycharm": {
     "name": "#%%\n"
    }
   }
  },
  {
   "cell_type": "code",
   "execution_count": null,
   "outputs": [],
   "source": [],
   "metadata": {
    "collapsed": false,
    "pycharm": {
     "name": "#%%\n"
    }
   }
  }
 ],
 "metadata": {
  "kernelspec": {
   "display_name": "Python 3",
   "language": "python",
   "name": "python3"
  },
  "language_info": {
   "codemirror_mode": {
    "name": "ipython",
    "version": 2
   },
   "file_extension": ".py",
   "mimetype": "text/x-python",
   "name": "python",
   "nbconvert_exporter": "python",
   "pygments_lexer": "ipython2",
   "version": "2.7.6"
  }
 },
 "nbformat": 4,
 "nbformat_minor": 0
}